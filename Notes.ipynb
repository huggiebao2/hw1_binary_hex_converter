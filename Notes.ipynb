{
 "cells": [
  {
   "attachments": {},
   "cell_type": "markdown",
   "metadata": {},
   "source": [
    "# Decimal to Binary & Hex\n",
    "## Inputs\n",
    "### Try-except\n",
    "Using `try` and `except` to make sure the `input_num` satisfies the requirement. (an integer)\n",
    "Grammar:\n",
    "```python=\n",
    "try:\n",
    "    # code\n",
    "except:\n",
    "    # code\n",
    "```\n",
    "### If-else\n",
    "Using `if` and `else` to make sure the `input_num` satisfies the requirement. (0~255)\n",
    "Grammar:\n",
    "```python=\n",
    "if condition_1:\n",
    "    # code\n",
    "elif condition_2:\n",
    "    # code\n",
    "else:\n",
    "    # code\n",
    "```"
   ]
  },
  {
   "cell_type": "code",
   "execution_count": 7,
   "metadata": {},
   "outputs": [
    {
     "name": "stdout",
     "output_type": "stream",
     "text": [
      "You entered: 0\n"
     ]
    }
   ],
   "source": [
    "\n",
    "while True: \n",
    "    # input\n",
    "    input_num = input('Input an integer (Decimal, from 0~255):')\n",
    "\n",
    "\n",
    "    # if integer\n",
    "    try: \n",
    "        input_num = int(input_num)\n",
    "        # if range(0,256)\n",
    "        if 0 <= input_num <= 255:\n",
    "            break\n",
    "        else:\n",
    "            print('Out of range. Please enter an integer in 0~255.')\n",
    "            continue\n",
    "\n",
    "    # if not integer\n",
    "    except ValueError:\n",
    "        print( 'Invalid input. Please enter an integer.')\n",
    "    \n",
    "print('You entered: %d' %(input_num))"
   ]
  },
  {
   "attachments": {},
   "cell_type": "markdown",
   "metadata": {},
   "source": [
    "## Conversion (Dec2Bin)"
   ]
  },
  {
   "attachments": {},
   "cell_type": "markdown",
   "metadata": {},
   "source": [
    "### The way to get remainder\n",
    "The fomula: $a \\div b=Q...r$\n",
    "- Using `%` to get remainder ($r$).\n",
    "- Using `//` to get quotient ($Q$)."
   ]
  },
  {
   "cell_type": "code",
   "execution_count": 2,
   "metadata": {},
   "outputs": [
    {
     "name": "stdout",
     "output_type": "stream",
     "text": [
      "7 % 2 = 1\n",
      "7 // 2 = 3\n"
     ]
    }
   ],
   "source": [
    "print('7 % 2 =', 7 % 2)\n",
    "print('7 // 2 =', 7 // 2)"
   ]
  },
  {
   "attachments": {},
   "cell_type": "markdown",
   "metadata": {},
   "source": [
    "### Binary world\n",
    "- There's just 0 and 1\n",
    "-   When number hits `1`, the next number would be `1` followed by `0` \n",
    "- Things are represented using $r \\times 2^n\\ |\\ r < 2$\n",
    "    <br><table align=\"left\">\n",
    "    <tr>\n",
    "        <td><b>Decimal</b></td>\n",
    "        <td><b>r × 2<sup>n</sup></b></td>\n",
    "        <td><b>Binary</b></td>\n",
    "    </tr>\n",
    "    <tr>\n",
    "        <td>0</td>\n",
    "        <td>0 × 2<sup>0</sup></td>\n",
    "        <td>0</td>\n",
    "    </tr>\n",
    "    <tr>\n",
    "        <td>1</td>\n",
    "        <td>1 × 2<sup>0</sup></td>\n",
    "        <td>1</td>\n",
    "    </tr>\n",
    "    <tr>\n",
    "        <td>2</td>\n",
    "        <td>1 × 2<sup>1</sup> + 0 × 2<sup>0</sup></td>\n",
    "        <td>10</td>\n",
    "    </tr>\n",
    "    <tr>\n",
    "        <td>3</td>\n",
    "        <td>1 × 2<sup>1</sup> + 1 × 2<sup>0</sup></td>\n",
    "        <td>11</td>\n",
    "    </tr>\n",
    "    <tr>\n",
    "        <td>4</td>\n",
    "        <td>1 × 2<sup>2</sup> + 0 × 2<sup>1</sup> + 0 × 2<sup>0</sup></td>\n",
    "        <td>100</td>\n",
    "    </tr>\n",
    "    <tr>\n",
    "        <td>5</td>\n",
    "        <td>1 × 2<sup>2</sup> + 0 × 2<sup>1</sup> + 1 × 2<sup>0</sup></td>\n",
    "        <td>101</td>\n",
    "    </tr>\n",
    "    <tr>\n",
    "        <td>6</td>\n",
    "        <td>1 × 2<sup>2</sup> + 1 × 2<sup>1</sup> + 0 × 2<sup>0</sup></td>\n",
    "        <td>110</td>\n",
    "    </tr>\n",
    "    <tr>\n",
    "        <td>7</td>\n",
    "        <td>1 × 2<sup>2</sup> + 1 × 2<sup>1</sup> + 1 × 2<sup>0</sup></td>\n",
    "        <td>111</td>\n",
    "    </tr>\n",
    "    <tr>\n",
    "        <td>8</td>\n",
    "        <td>1 × 2<sup>3</sup> + 0 × 2<sup>2</sup> + 0 × 2<sup>1</sup> + 0 × 2<sup>0</sup></td>\n",
    "        <td>1000</td>\n",
    "    </tr>\n",
    "    <tr>\n",
    "        <td>...</td>\n",
    "        <td>...</td>\n",
    "        <td>...</td>\n",
    "    </tr>\n",
    "</table>"
   ]
  },
  {
   "cell_type": "code",
   "execution_count": 8,
   "metadata": {},
   "outputs": [
    {
     "name": "stdout",
     "output_type": "stream",
     "text": [
      "The binary form is:  0\n"
     ]
    }
   ],
   "source": [
    "binary_num = ''\n",
    "\n",
    "if input_num == 0:\n",
    "    binary_num = '0'\n",
    "while input_num >= 1:\n",
    "    # digits of binary_num are the remainders of the division of 2\n",
    "    binary_num = str(input_num % 2) + binary_num\n",
    "    input_num = input_num // 2\n",
    "\n",
    "print('The binary form is: ', binary_num)\n",
    "    "
   ]
  },
  {
   "attachments": {},
   "cell_type": "markdown",
   "metadata": {},
   "source": [
    "## Conversion (Dec2Hex)"
   ]
  },
  {
   "attachments": {},
   "cell_type": "markdown",
   "metadata": {},
   "source": [
    "### Hexadecimal world\n",
    "Just like Binary world, number are represented using $r \\times 16^n\\ |\\ r < 16$.\n",
    "\n",
    "\n",
    "\n",
    "Followings are the digits ($r$) in Hex.\n",
    "It's an one-to-one relationship. Just like the keys and values in python dictionaries.\n",
    "\n",
    "<p><table align=\"left\">\n",
    "    <tr>\n",
    "        <td><b>Decimal</b></td>\n",
    "        <td><b>Hexadecimal</b></td>\n",
    "        <td><b>Decimal</b></td>\n",
    "        <td><b>Hexadecimal</b></td>\n",
    "    </tr>\n",
    "    <tr>\n",
    "        <td>0</td>\n",
    "        <td>0</td>\n",
    "        <td>8</td>\n",
    "        <td>8</td>\n",
    "    </tr>\n",
    "    <tr>\n",
    "        <td>1</td>\n",
    "        <td>1</td>\n",
    "        <td>9</td>\n",
    "        <td>9</td>\n",
    "    </tr>\n",
    "    <tr>\n",
    "        <td>2</td>\n",
    "        <td>2</td>\n",
    "        <td>10</td>\n",
    "        <td>A</td>\n",
    "    </tr>\n",
    "    <tr>\n",
    "        <td>3</td>\n",
    "        <td>3</td>\n",
    "        <td>11</td>\n",
    "        <td>B</td>\n",
    "    </tr>\n",
    "    <tr>\n",
    "        <td>4</td>\n",
    "        <td>4</td>\n",
    "        <td>12</td>\n",
    "        <td>C</td>\n",
    "    </tr>\n",
    "    <tr>\n",
    "        <td>5</td>\n",
    "        <td>5</td>\n",
    "        <td>13</td>\n",
    "        <td>D</td>\n",
    "    </tr>\n",
    "    <tr>\n",
    "        <td>6</td>\n",
    "        <td>6</td>\n",
    "        <td>14</td>\n",
    "        <td>E</td>\n",
    "    </tr>\n",
    "    <tr>\n",
    "        <td>7</td>\n",
    "        <td>7</td>\n",
    "        <td>15</td>\n",
    "        <td>F</td>\n",
    "    </tr>\n",
    "</table>\n",
    "</p>\n",
    "\n",
    "<p></p>"
   ]
  },
  {
   "cell_type": "code",
   "execution_count": 5,
   "metadata": {},
   "outputs": [],
   "source": [
    "# defining hex digits\n",
    "hex_digits = {\n",
    "    0: '0',\n",
    "    1: '1',\n",
    "    2: '2',\n",
    "    3: '3',\n",
    "    4: '4',\n",
    "    5: '5',\n",
    "    6: '6',\n",
    "    7: '7',\n",
    "    8: '8',\n",
    "    9: '9',\n",
    "    10: 'A',\n",
    "    11: 'B',\n",
    "    12: 'C',\n",
    "    13: 'D',\n",
    "    14: 'E',\n",
    "    15: 'F'\n",
    "}"
   ]
  },
  {
   "cell_type": "code",
   "execution_count": 9,
   "metadata": {},
   "outputs": [
    {
     "name": "stdout",
     "output_type": "stream",
     "text": [
      "The hexadecimal form is:  0\n"
     ]
    }
   ],
   "source": [
    "hex_num = ''\n",
    "\n",
    "if input_num == 0:\n",
    "    hex_num = '0'\n",
    "while input_num >= 1:\n",
    "    # digits of binary_num are the remainders of the division of 16\n",
    "    hex_num = hex_digits[input_num % 16] + hex_num\n",
    "    input_num = input_num // 16\n",
    "\n",
    "print('The hexadecimal form is: ', hex_num)"
   ]
  }
 ],
 "metadata": {
  "kernelspec": {
   "display_name": "base",
   "language": "python",
   "name": "python3"
  },
  "language_info": {
   "codemirror_mode": {
    "name": "ipython",
    "version": 3
   },
   "file_extension": ".py",
   "mimetype": "text/x-python",
   "name": "python",
   "nbconvert_exporter": "python",
   "pygments_lexer": "ipython3",
   "version": "3.9.13"
  },
  "orig_nbformat": 4,
  "vscode": {
   "interpreter": {
    "hash": "4da6ba4fe5699443515ff38c27967ad3b662d5f7bdd5db7fe6d9efd7b707e889"
   }
  }
 },
 "nbformat": 4,
 "nbformat_minor": 2
}
